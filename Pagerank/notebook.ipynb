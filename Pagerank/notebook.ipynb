{
 "cells": [
  {
   "cell_type": "code",
   "execution_count": 72,
   "metadata": {},
   "outputs": [],
   "source": [
    "import numpy as np\n",
    "from numpy.linalg import eig\n",
    "from numpy.linalg import norm\n",
    "\n",
    "data = open('pageRank-gr0.California.txt', 'r')\n",
    "\n",
    "#data = open('C:/Users/Mithushan/Desktop/Pagerank/Pagerank/pageRank-gr0.California.txt', 'r')\n",
    "\n",
    "a = True\n",
    "edge_list = np.empty((16150, 2), dtype=int)\n",
    "i = 0\n",
    "M=np.zeros((9664,9664), dtype=float) # 9663 total nodes, create empty matrix to store edge relationships\n"
   ]
  },
  {
   "cell_type": "code",
   "execution_count": 73,
   "metadata": {},
   "outputs": [
    {
     "name": "stdout",
     "output_type": "stream",
     "text": [
      "eof\n"
     ]
    }
   ],
   "source": [
    "# California dataset\n",
    "# Reading data and creating edge list\n",
    "while a:\n",
    "    data_line = data.readline()\n",
    "    if not data_line:\n",
    "        print(\"eof\")\n",
    "        a = False\n",
    "        break\n",
    "    if data_line[0] == 'e':\n",
    "        t = data_line.split()\n",
    "        edge_list[i][0] = t[1]\n",
    "        edge_list[i][1] = t[2]\n",
    "        i = i + 1\n",
    "\n",
    "\n",
    "# Creating link matrix, binary\n",
    "for i in range(len(edge_list)):\n",
    "    M[edge_list[i][1]][edge_list[i][0]] = 1\n",
    "\n",
    "column_sum = M.sum(axis=0)\n",
    "\n",
    "\n",
    "\n",
    "# To prevent division with 0\n",
    "for x in range(len(column_sum)):\n",
    "    if column_sum[x] == 0:\n",
    "        column_sum[x] = 1\n",
    "\n",
    "# Make matrix column stochastic\n",
    "Mt=M.T\n",
    "column_sum_t = column_sum.T\n",
    "Mt = Mt/column_sum_t\n",
    "Q=Mt.T\n",
    "\n"
   ]
  },
  {
   "cell_type": "code",
   "execution_count": 74,
   "metadata": {},
   "outputs": [
    {
     "name": "stdout",
     "output_type": "stream",
     "text": [
      "157.62916666666666\n"
     ]
    }
   ],
   "source": [
    "print(np.linalg.norm(Q,ord=1))\n",
    "\n",
    "# Q = np.zeros((6,6))\n",
    "\n",
    "# Q[0,1] =1/3\n",
    "# Q[1,0] =1/3\n",
    "# Q[2,1] =1/3\n",
    "# Q[2,4] =1/3\n",
    "# Q[2,5] =1/2\n",
    "# Q[3,0] =1/3\n",
    "# Q[3,4] =1/3\n",
    "# Q[4,0] =1/3\n",
    "# Q[4,1] =1/3\n",
    "# Q[4,5] =1/2\n",
    "# Q[5,2] =1\n",
    "# Q[5,4] =1/3\n",
    "# print(Q)\n"
   ]
  },
  {
   "cell_type": "code",
   "execution_count": 75,
   "metadata": {},
   "outputs": [
    {
     "name": "stdout",
     "output_type": "stream",
     "text": [
      "[4.53974460e-04 3.38997709e-03 5.11249927e-05 ... 3.21542422e-05\n",
      " 3.21542422e-05 3.21542422e-05]\n",
      "Residual= 1.1253650159916706\n",
      "[2.82015754e-04 1.65207325e-03 7.72165244e-05 ... 6.08876672e-05\n",
      " 6.08876672e-05 6.08876672e-05]\n",
      "Residual= 0.6332364016127565\n",
      "[3.78677287e-04 2.70483587e-03 6.57313784e-05 ... 5.03699780e-05\n",
      " 5.03699780e-05 5.03699780e-05]\n",
      "Residual= 0.27085959938815396\n",
      "[3.46141367e-04 2.25211814e-03 6.98148910e-05 ... 5.36176421e-05\n",
      " 5.36176421e-05 5.36176421e-05]\n",
      "Residual= 0.10252068140035206\n",
      "[3.60146024e-04 2.46283101e-03 6.83135019e-05 ... 5.26301575e-05\n",
      " 5.26301575e-05 5.26301575e-05]\n",
      "Residual= 0.03651227537819462\n",
      "[3.56127248e-04 2.37907549e-03 6.87309555e-05 ... 5.28590364e-05\n",
      " 5.28590364e-05 5.28590364e-05]\n",
      "Residual= 0.012635060415184229\n",
      "[3.57519302e-04 2.41345533e-03 6.85953820e-05 ... 5.28069825e-05\n",
      " 5.28069825e-05 5.28069825e-05]\n",
      "Residual= 0.004347805192881456\n",
      "[3.57189321e-04 2.40022343e-03 6.86151225e-05 ... 5.28036803e-05\n",
      " 5.28036803e-05 5.28036803e-05]\n",
      "Residual= 0.001608579889017467\n",
      "[3.57252894e-04 2.40508155e-03 6.86098429e-05 ... 5.28084656e-05\n",
      " 5.28084656e-05 5.28084656e-05]\n",
      "Residual= 0.0007149336252930933\n",
      "[3.57252894e-04 2.40508155e-03 6.86098429e-05 ... 5.28084656e-05\n",
      " 5.28084656e-05 5.28084656e-05]\n"
     ]
    }
   ],
   "source": [
    "epsilon = 10e-5\n",
    "residual = 1\n",
    "\n",
    "z = np.ones(Q.shape[1]) / (Q.shape[1])\n",
    "v = np.ones(Q.shape[1]) / (Q.shape[1])\n",
    "alpha = 0.55\n",
    "epsilon = 10e-4\n",
    "res = 1\n",
    "\n",
    "while res > epsilon:\n",
    "    yhat = alpha * np.matmul(Q, z)\n",
    "    beta = 1 - np.linalg.norm(yhat, ord=1)\n",
    "    y = yhat + beta * v\n",
    "    res = np.linalg.norm(y - z, ord=1)\n",
    "    z=y\n",
    "    print(y)\n",
    "    print('Residual=', res)\n",
    "\n",
    "print(y)\n"
   ]
  },
  {
   "cell_type": "code",
   "execution_count": 76,
   "metadata": {},
   "outputs": [],
   "source": [
    "import string\n",
    "file2 = open('text_california.txt','w')\n",
    "for i in y:\n",
    "    my_str=str(i)\n",
    "    file2.write(my_str+'\\n')\n",
    "file2.close()"
   ]
  },
  {
   "cell_type": "code",
   "execution_count": 77,
   "metadata": {},
   "outputs": [],
   "source": [
    "#still problem with web-stanford dataset but we now are able to create a spars matrix with california data set"
   ]
  },
  {
   "cell_type": "code",
   "execution_count": 85,
   "metadata": {},
   "outputs": [
    {
     "name": "stdout",
     "output_type": "stream",
     "text": [
      "(16150,)\n",
      "(16150,)\n",
      "(16150,)\n"
     ]
    }
   ],
   "source": [
    "# Stanford dataset\n",
    "import numpy as np\n",
    "from numpy.linalg import eig\n",
    "from numpy.linalg import norm\n",
    "from scipy.sparse import csc_matrix\n",
    "from scipy.sparse import csr_matrix\n",
    "from scipy.sparse import coo_matrix\n",
    "\n",
    "# data = open('web-stanford.txt', 'r')\n",
    "\n",
    "data = open('pageRank-gr0.California.txt', 'r')\n",
    "\n",
    "#edge_list_2 = np.empty((2312497, 2),dtype=int)\n",
    "edge_list_2 = np.empty((16150, 2),dtype=int)\n",
    "\n",
    "# Initializing coordinate vectors for sparse matrix\n",
    "# row = np.empty(2312497,dtype=int)\n",
    "# col = np.empty(2312497,dtype=int)\n",
    "# m_data = np.empty(2312497,dtype=int)\n",
    "\n",
    "row = np.empty(16150,dtype=int)\n",
    "col = np.empty(16150,dtype=int)\n",
    "m_data = np.empty(16150,dtype=int)\n",
    "\n",
    "print(np.shape(col))\n",
    "print(np.shape(row))\n",
    "print(np.shape(m_data))\n"
   ]
  },
  {
   "cell_type": "code",
   "execution_count": 86,
   "metadata": {},
   "outputs": [],
   "source": [
    "from numpy.linalg import norm\n",
    "from scipy.sparse import csc_matrix\n",
    "from scipy.sparse import csr_matrix\n",
    "from scipy.sparse import coo_matrix\n",
    "\n",
    "# data = open('web-stanford.txt', 'r')\n",
    "\n",
    "data = open('C:/Users/Mithushan/Desktop/Pagerank/Pagerank/pageRank-gr0.California.txt', 'r')\n",
    "\n",
    "#edge_list_2 = np.empty((2312497, 2),dtype=int)\n",
    "edge_list_2 = np.empty((16150, 2),dtype=int)\n",
    "\n",
    "# Initializing coordinate vectors for sparse matrix\n",
    "# row = np.empty(2312497,dtype=int)\n",
    "# col = np.empty(2312497,dtype=int)\n",
    "# m_data = np.empty(2312497,dtype=int)\n",
    "\n",
    "row = np.empty(16150,dtype=int)\n",
    "col = np.empty(16150,dtype=int)\n",
    "m_data = np.empty(16150,dtype=int)\n"
   ]
  },
  {
   "cell_type": "code",
   "execution_count": 87,
   "metadata": {},
   "outputs": [
    {
     "name": "stdout",
     "output_type": "stream",
     "text": [
      "eof\n"
     ]
    }
   ],
   "source": [
    "# Stanford dataset\n",
    "# Reading data and creating edge list\n",
    "a = True\n",
    "i = 0\n",
    "while a:\n",
    "    data_line = data.readline()\n",
    "    if not data_line:\n",
    "        print(\"eof\")\n",
    "        a = False\n",
    "        break\n",
    "    # if data_line[0] != '#':\n",
    "    #     t = data_line.split()\n",
    "    #     edge_list_2[i][0] = int(t[0])\n",
    "    #     edge_list_2[i][1] = int(t[1])\n",
    "    #     i = i + 1\n",
    "    if data_line[0] == 'e':\n",
    "        t = data_line.split()\n",
    "        edge_list_2[i][0] = int(t[1])\n",
    "        edge_list_2[i][1] = int(t[2])\n",
    "        i = i + 1\n"
   ]
  },
  {
   "cell_type": "code",
   "execution_count": 88,
   "metadata": {},
   "outputs": [
    {
     "name": "stdout",
     "output_type": "stream",
     "text": [
      "9634\n",
      "9663\n"
     ]
    }
   ],
   "source": [
    "\n",
    "# Creating sparse link matrix, binary\n",
    "for i in range(len(edge_list_2)):\n",
    "    col[i] = edge_list_2[i][0]\n",
    "    row[i] = edge_list_2[i][1]\n",
    "    m_data[i] = 1\n",
    "\n",
    "\n",
    "print(row.max())\n",
    "print(col.max())"
   ]
  },
  {
   "cell_type": "code",
   "execution_count": 89,
   "metadata": {},
   "outputs": [
    {
     "name": "stdout",
     "output_type": "stream",
     "text": [
      "[[0 0 0 ... 0 0 0]\n",
      " [0 0 0 ... 0 0 0]\n",
      " [0 0 0 ... 0 0 0]\n",
      " ...\n",
      " [0 0 0 ... 0 0 0]\n",
      " [0 0 0 ... 0 0 0]\n",
      " [0 0 0 ... 0 0 0]]\n"
     ]
    }
   ],
   "source": [
    "\n",
    "Q = coo_matrix((m_data, (row, col)),dtype=np.int8, shape=(9664, 9664)).toarray()\n",
    "print(Q)"
   ]
  },
  {
   "cell_type": "code",
   "execution_count": 90,
   "metadata": {},
   "outputs": [
    {
     "name": "stdout",
     "output_type": "stream",
     "text": [
      "[[0. 0. 0. ... 0. 0. 0.]\n",
      " [0. 0. 0. ... 0. 0. 0.]\n",
      " [0. 0. 0. ... 0. 0. 0.]\n",
      " ...\n",
      " [0. 0. 0. ... 0. 0. 0.]\n",
      " [0. 0. 0. ... 0. 0. 0.]\n",
      " [0. 0. 0. ... 0. 0. 0.]]\n"
     ]
    }
   ],
   "source": [
    "column_sum = M.sum(axis=0)\n",
    "\n",
    "# To prevent division with 0\n",
    "for x in range(len(column_sum)):\n",
    "    if column_sum[x] == 0:\n",
    "        column_sum[x] = 1\n",
    "\n",
    "# Make matrix column stochastic\n",
    "Mt=M.T\n",
    "column_sum_t = column_sum.T\n",
    "Mt = Mt/column_sum_t\n",
    "Q=Mt.T\n",
    "\n",
    "print(Q)"
   ]
  }
 ],
 "metadata": {
  "interpreter": {
   "hash": "22349e119f9a1ff9ff9c2fb7ff678fa263f34966604f265a6bd2d05ff475b46c"
  },
  "kernelspec": {
   "display_name": "Python 3.9.7 64-bit",
   "name": "python3"
  },
  "language_info": {
   "codemirror_mode": {
    "name": "ipython",
    "version": 3
   },
   "file_extension": ".py",
   "mimetype": "text/x-python",
   "name": "python",
   "nbconvert_exporter": "python",
   "pygments_lexer": "ipython3",
   "version": "3.9.7"
  }
 },
 "nbformat": 4,
 "nbformat_minor": 2
}
