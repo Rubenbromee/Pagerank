{
 "cells": [
  {
   "cell_type": "code",
   "execution_count": 78,
   "metadata": {},
   "outputs": [],
   "source": [
    "import numpy as np\n",
    "from numpy.linalg import eig\n",
    "from numpy.linalg import norm\n",
    "\n",
    "data = open('pageRank-gr0.California.txt', 'r')\n",
    "\n",
    "#data = open('C:/Users/Mithushan/Desktop/Pagerank/Pagerank/pageRank-gr0.California.txt', 'r')\n",
    "\n",
    "a = True\n",
    "edge_list = np.empty((16150, 2), dtype=int)\n",
    "i = 0\n",
    "M=np.zeros((9664,9664), dtype=float) # 9663 total nodes, create empty matrix to store edge relationships\n"
   ]
  },
  {
   "cell_type": "code",
   "execution_count": 79,
   "metadata": {},
   "outputs": [
    {
     "name": "stdout",
     "output_type": "stream",
     "text": [
      "eof\n"
     ]
    }
   ],
   "source": [
    "# California dataset\n",
    "# Reading data and creating edge list\n",
    "while a:\n",
    "    data_line = data.readline()\n",
    "    if not data_line:\n",
    "        print(\"eof\")\n",
    "        a = False\n",
    "        break\n",
    "    if data_line[0] == 'e':\n",
    "        t = data_line.split()\n",
    "        edge_list[i][0] = t[1]\n",
    "        edge_list[i][1] = t[2]\n",
    "        i = i + 1\n",
    "\n",
    "\n",
    "# Creating link matrix, binary\n",
    "for i in range(len(edge_list)):\n",
    "    M[edge_list[i][1]][edge_list[i][0]] = 1\n",
    "\n",
    "column_sum = M.sum(axis=0)\n",
    "\n",
    "\n",
    "\n",
    "# To prevent division with 0\n",
    "for x in range(len(column_sum)):\n",
    "    if column_sum[x] == 0:\n",
    "        column_sum[x] = 1\n",
    "\n",
    "# Make matrix column stochastic\n",
    "Mt=M.T\n",
    "column_sum_t = column_sum.T\n",
    "Mt = Mt/column_sum_t\n",
    "Q=Mt.T\n",
    "\n"
   ]
  },
  {
   "cell_type": "code",
   "execution_count": 80,
   "metadata": {},
   "outputs": [
    {
     "name": "stdout",
     "output_type": "stream",
     "text": [
      "157.62916666666666\n"
     ]
    }
   ],
   "source": [
    "print(np.linalg.norm(Q,ord=1))\n",
    "\n",
    "# Q = np.zeros((6,6))\n",
    "\n",
    "# Q[0,1] =1/3\n",
    "# Q[1,0] =1/3\n",
    "# Q[2,1] =1/3\n",
    "# Q[2,4] =1/3\n",
    "# Q[2,5] =1/2\n",
    "# Q[3,0] =1/3\n",
    "# Q[3,4] =1/3\n",
    "# Q[4,0] =1/3\n",
    "# Q[4,1] =1/3\n",
    "# Q[4,5] =1/2\n",
    "# Q[5,2] =1\n",
    "# Q[5,4] =1/3\n",
    "# print(Q)\n"
   ]
  },
  {
   "cell_type": "code",
   "execution_count": 81,
   "metadata": {},
   "outputs": [
    {
     "name": "stdout",
     "output_type": "stream",
     "text": [
      "[4.53974460e-04 3.38997709e-03 5.11249927e-05 ... 3.21542422e-05\n",
      " 3.21542422e-05 3.21542422e-05]\n",
      "Residual= 1.1253650159916706\n",
      "[2.82015754e-04 1.65207325e-03 7.72165244e-05 ... 6.08876672e-05\n",
      " 6.08876672e-05 6.08876672e-05]\n",
      "Residual= 0.6332364016127564\n",
      "[3.78677287e-04 2.70483587e-03 6.57313784e-05 ... 5.03699780e-05\n",
      " 5.03699780e-05 5.03699780e-05]\n",
      "Residual= 0.27085959938815374\n",
      "[3.46141367e-04 2.25211814e-03 6.98148910e-05 ... 5.36176421e-05\n",
      " 5.36176421e-05 5.36176421e-05]\n",
      "Residual= 0.10252068140035198\n",
      "[3.60146024e-04 2.46283101e-03 6.83135019e-05 ... 5.26301575e-05\n",
      " 5.26301575e-05 5.26301575e-05]\n",
      "Residual= 0.03651227537819462\n",
      "[3.56127248e-04 2.37907549e-03 6.87309555e-05 ... 5.28590364e-05\n",
      " 5.28590364e-05 5.28590364e-05]\n",
      "Residual= 0.012635060415184347\n",
      "[3.57519302e-04 2.41345533e-03 6.85953820e-05 ... 5.28069825e-05\n",
      " 5.28069825e-05 5.28069825e-05]\n",
      "Residual= 0.00434780519288162\n",
      "[3.57189321e-04 2.40022343e-03 6.86151225e-05 ... 5.28036803e-05\n",
      " 5.28036803e-05 5.28036803e-05]\n",
      "Residual= 0.0016085798890175418\n",
      "[3.57252894e-04 2.40508155e-03 6.86098429e-05 ... 5.28084656e-05\n",
      " 5.28084656e-05 5.28084656e-05]\n",
      "Residual= 0.0007149336252931077\n",
      "[3.57252894e-04 2.40508155e-03 6.86098429e-05 ... 5.28084656e-05\n",
      " 5.28084656e-05 5.28084656e-05]\n"
     ]
    }
   ],
   "source": [
    "epsilon = 10e-5\n",
    "residual = 1\n",
    "\n",
    "z = np.ones(Q.shape[1]) / (Q.shape[1])\n",
    "v = np.ones(Q.shape[1]) / (Q.shape[1])\n",
    "alpha = 0.55\n",
    "epsilon = 10e-4\n",
    "res = 1\n",
    "\n",
    "while res > epsilon:\n",
    "    yhat = alpha * np.matmul(Q, z)\n",
    "    beta = 1 - np.linalg.norm(yhat, ord=1)\n",
    "    y = yhat + beta * v\n",
    "    res = np.linalg.norm(y - z, ord=1)\n",
    "    z=y\n",
    "    print(y)\n",
    "    print('Residual=', res)\n",
    "\n",
    "print(y)\n"
   ]
  },
  {
   "cell_type": "code",
   "execution_count": 82,
   "metadata": {},
   "outputs": [],
   "source": [
    "import string\n",
    "file2 = open('text_california.txt','w')\n",
    "for i in y:\n",
    "    my_str=str(i)\n",
    "    file2.write(my_str+'\\n')\n",
    "file2.close()"
   ]
  },
  {
   "cell_type": "code",
   "execution_count": 83,
   "metadata": {},
   "outputs": [],
   "source": [
    "# Stanford dataset\n",
    "import numpy as np\n",
    "from numpy.linalg import eig\n",
    "from numpy.linalg import norm\n",
    "from scipy.sparse import csc_matrix\n",
    "\n",
    "data = open('web-stanford.txt', 'r')\n",
    "\n",
    "#data = open('C:/Users/Mithushan/Desktop/Pagerank/Pagerank/pageRank-gr0.California.txt', 'r')\n",
    "\n",
    "edge_list_2 = np.empty((2312497, 2), dtype='int32')\n",
    "\n",
    "# Initializing coordinate vectors for sparse matrix\n",
    "row = np.empty((2312497, 1), dtype='int32')\n",
    "col = np.array((2312497, 1), dtype='int32')\n",
    "m_data = np.array((2312497, 1), dtype='int32')\n",
    "\n",
    "a = True\n",
    "i = 0"
   ]
  },
  {
   "cell_type": "code",
   "execution_count": 84,
   "metadata": {},
   "outputs": [
    {
     "name": "stdout",
     "output_type": "stream",
     "text": [
      "eof\n",
      "(2,)\n"
     ]
    },
    {
     "ename": "TypeError",
     "evalue": "'numpy.int32' object does not support item assignment",
     "output_type": "error",
     "traceback": [
      "\u001b[1;31m---------------------------------------------------------------------------\u001b[0m",
      "\u001b[1;31mTypeError\u001b[0m                                 Traceback (most recent call last)",
      "\u001b[1;32m~\\AppData\\Local\\Temp/ipykernel_4284/602596692.py\u001b[0m in \u001b[0;36m<module>\u001b[1;34m\u001b[0m\n\u001b[0;32m     17\u001b[0m \u001b[1;31m# Creating sparse link matrix, binary\u001b[0m\u001b[1;33m\u001b[0m\u001b[1;33m\u001b[0m\u001b[0m\n\u001b[0;32m     18\u001b[0m \u001b[1;32mfor\u001b[0m \u001b[0mi\u001b[0m \u001b[1;32min\u001b[0m \u001b[0mrange\u001b[0m\u001b[1;33m(\u001b[0m\u001b[0mlen\u001b[0m\u001b[1;33m(\u001b[0m\u001b[0medge_list_2\u001b[0m\u001b[1;33m)\u001b[0m\u001b[1;33m)\u001b[0m\u001b[1;33m:\u001b[0m\u001b[1;33m\u001b[0m\u001b[1;33m\u001b[0m\u001b[0m\n\u001b[1;32m---> 19\u001b[1;33m     \u001b[0mcol\u001b[0m\u001b[1;33m[\u001b[0m\u001b[0mi\u001b[0m\u001b[1;33m]\u001b[0m\u001b[1;33m[\u001b[0m\u001b[1;36m1\u001b[0m\u001b[1;33m]\u001b[0m \u001b[1;33m=\u001b[0m \u001b[0medge_list_2\u001b[0m\u001b[1;33m[\u001b[0m\u001b[0mi\u001b[0m\u001b[1;33m]\u001b[0m\u001b[1;33m[\u001b[0m\u001b[1;36m0\u001b[0m\u001b[1;33m]\u001b[0m\u001b[1;33m\u001b[0m\u001b[1;33m\u001b[0m\u001b[0m\n\u001b[0m\u001b[0;32m     20\u001b[0m     \u001b[0mrow\u001b[0m\u001b[1;33m[\u001b[0m\u001b[0mi\u001b[0m\u001b[1;33m]\u001b[0m\u001b[1;33m[\u001b[0m\u001b[1;36m1\u001b[0m\u001b[1;33m]\u001b[0m \u001b[1;33m=\u001b[0m \u001b[0medge_list_2\u001b[0m\u001b[1;33m[\u001b[0m\u001b[0mi\u001b[0m\u001b[1;33m]\u001b[0m\u001b[1;33m[\u001b[0m\u001b[1;36m1\u001b[0m\u001b[1;33m]\u001b[0m\u001b[1;33m\u001b[0m\u001b[1;33m\u001b[0m\u001b[0m\n\u001b[0;32m     21\u001b[0m     \u001b[0mm_data\u001b[0m\u001b[1;33m[\u001b[0m\u001b[0mi\u001b[0m\u001b[1;33m]\u001b[0m\u001b[1;33m[\u001b[0m\u001b[1;36m1\u001b[0m\u001b[1;33m]\u001b[0m \u001b[1;33m=\u001b[0m \u001b[1;36m1\u001b[0m\u001b[1;33m\u001b[0m\u001b[1;33m\u001b[0m\u001b[0m\n",
      "\u001b[1;31mTypeError\u001b[0m: 'numpy.int32' object does not support item assignment"
     ]
    }
   ],
   "source": [
    "# Stanford dataset\n",
    "# Reading data and creating edge list\n",
    "while a:\n",
    "    data_line = data.readline()\n",
    "    if not data_line:\n",
    "        print(\"eof\")\n",
    "        a = False\n",
    "        break\n",
    "    if data_line[0] != '#':\n",
    "        t = data_line.split()\n",
    "        edge_list_2[i][0] = int(t[0])\n",
    "        edge_list_2[i][1] = int(t[1])\n",
    "        i = i + 1\n",
    "\n",
    "print(np.shape(col))\n",
    "\n",
    "# Creating sparse link matrix, binary\n",
    "for i in range(len(edge_list_2)):\n",
    "    col[i][1] = edge_list_2[i][0]\n",
    "    row[i][1] = edge_list_2[i][1]\n",
    "    m_data[i][1] = 1\n"
   ]
  },
  {
   "cell_type": "code",
   "execution_count": null,
   "metadata": {},
   "outputs": [],
   "source": [
    "Q = csc_matrix((m_data, (row, col)), shape=(281903, 281903)).toarray()"
   ]
  },
  {
   "cell_type": "code",
   "execution_count": null,
   "metadata": {},
   "outputs": [],
   "source": [
    "column_sum = M.sum(axis=0)\n",
    "\n",
    "# To prevent division with 0\n",
    "for x in range(len(column_sum)):\n",
    "    if column_sum[x] == 0:\n",
    "        column_sum[x] = 1\n",
    "\n",
    "# Make matrix column stochastic\n",
    "Mt=M.T\n",
    "column_sum_t = column_sum.T\n",
    "Mt = Mt/column_sum_t\n",
    "Q=Mt.T\n",
    "\n",
    "print(Q)"
   ]
  }
 ],
 "metadata": {
  "interpreter": {
   "hash": "22349e119f9a1ff9ff9c2fb7ff678fa263f34966604f265a6bd2d05ff475b46c"
  },
  "kernelspec": {
   "display_name": "Python 3.9.7 64-bit",
   "name": "python3"
  },
  "language_info": {
   "codemirror_mode": {
    "name": "ipython",
    "version": 3
   },
   "file_extension": ".py",
   "mimetype": "text/x-python",
   "name": "python",
   "nbconvert_exporter": "python",
   "pygments_lexer": "ipython3",
   "version": "3.9.7"
  }
 },
 "nbformat": 4,
 "nbformat_minor": 2
}
