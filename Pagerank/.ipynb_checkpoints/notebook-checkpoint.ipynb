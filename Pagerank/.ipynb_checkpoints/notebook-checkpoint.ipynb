{
 "cells": [
  {
   "cell_type": "code",
   "execution_count": 3,
   "metadata": {},
   "outputs": [],
   "source": [
    "import numpy as np\n",
    "from numpy.linalg import eig\n",
    "from numpy.linalg import norm\n",
    "\n",
    "data = open('pageRank-gr0.California.txt', 'r')\n",
    "\n",
    "#data = open('C:/Users/Mithushan/Desktop/Pagerank/Pagerank/pageRank-gr0.California.txt', 'r')\n",
    "\n",
    "a = True\n",
    "edge_list = np.empty((16150, 2), dtype=int)\n",
    "i = 0\n",
    "M=np.zeros((9664,9664), dtype=float) # 9663 total nodes, create empty matrix to store edge relationships\n"
   ]
  },
  {
   "cell_type": "code",
   "execution_count": 4,
   "metadata": {},
   "outputs": [
    {
     "name": "stdout",
     "output_type": "stream",
     "text": [
      "eof\n"
     ]
    }
   ],
   "source": [
    "# Reading data and creating edge list\n",
    "while a:\n",
    "    data_line = data.readline()\n",
    "    if not data_line:\n",
    "        print(\"eof\")\n",
    "        a = False\n",
    "        break\n",
    "    if data_line[0] == 'e':\n",
    "        t = data_line.split()\n",
    "        edge_list[i][0] = t[1]\n",
    "        edge_list[i][1] = t[2]\n",
    "        i = i + 1\n",
    "\n",
    "\n",
    "# Creating link matrix, binary\n",
    "for i in range(len(edge_list)):\n",
    "    M[edge_list[i][1]][edge_list[i][0]] = 1\n",
    "\n",
    "column_sum = M.sum(axis=0)\n",
    "\n",
    "\n",
    "\n",
    "# To prevent division with 0\n",
    "for x in range(len(column_sum)):\n",
    "    if column_sum[x] == 0:\n",
    "        column_sum[x] = 1\n",
    "\n",
    "# Make matrix column stochastic\n",
    "Mt=M.T\n",
    "column_sum_t = column_sum.T\n",
    "Mt = Mt/column_sum_t\n",
    "Q=Mt.T\n",
    "\n"
   ]
  },
  {
   "cell_type": "code",
   "execution_count": null,
   "metadata": {},
   "outputs": [
    {
     "name": "stdout",
     "output_type": "stream",
     "text": [
      "157.62916666666666\n",
      "[[0.         0.33333333 0.         0.         0.         0.        ]\n",
      " [0.33333333 0.         0.         0.         0.         0.        ]\n",
      " [0.         0.33333333 0.         0.         0.33333333 0.5       ]\n",
      " [0.33333333 0.         0.         0.         0.33333333 0.        ]\n",
      " [0.33333333 0.33333333 0.         0.         0.         0.5       ]\n",
      " [0.         0.         1.         0.         0.33333333 0.        ]]\n"
     ]
    }
   ],
   "source": [
    "print(np.linalg.norm(Q,ord=1))\n",
    "\n",
    "# Q = np.zeros((6,6))\n",
    "\n",
    "# Q[0,1] =1/3\n",
    "# Q[1,0] =1/3\n",
    "# Q[2,1] =1/3\n",
    "# Q[2,4] =1/3\n",
    "# Q[2,5] =1/2\n",
    "# Q[3,0] =1/3\n",
    "# Q[3,4] =1/3\n",
    "# Q[4,0] =1/3\n",
    "# Q[4,1] =1/3\n",
    "# Q[4,5] =1/2\n",
    "# Q[5,2] =1\n",
    "# Q[5,4] =1/3\n",
    "# print(Q)\n"
   ]
  },
  {
   "cell_type": "code",
   "execution_count": 5,
   "metadata": {},
   "outputs": [
    {
     "name": "stdout",
     "output_type": "stream",
     "text": [
      "[4.53974460e-04 3.38997709e-03 5.11249927e-05 ... 3.21542422e-05\n",
      " 3.21542422e-05 3.21542422e-05]\n",
      "Residual= 1.1253650159916706\n",
      "[2.82015754e-04 1.65207325e-03 7.72165244e-05 ... 6.08876672e-05\n",
      " 6.08876672e-05 6.08876672e-05]\n",
      "Residual= 0.6332364016127565\n",
      "[3.78677287e-04 2.70483587e-03 6.57313784e-05 ... 5.03699780e-05\n",
      " 5.03699780e-05 5.03699780e-05]\n",
      "Residual= 0.27085959938815396\n",
      "[3.46141367e-04 2.25211814e-03 6.98148910e-05 ... 5.36176421e-05\n",
      " 5.36176421e-05 5.36176421e-05]\n",
      "Residual= 0.10252068140035206\n",
      "[3.60146024e-04 2.46283101e-03 6.83135019e-05 ... 5.26301575e-05\n",
      " 5.26301575e-05 5.26301575e-05]\n",
      "Residual= 0.03651227537819462\n",
      "[3.56127248e-04 2.37907549e-03 6.87309555e-05 ... 5.28590364e-05\n",
      " 5.28590364e-05 5.28590364e-05]\n",
      "Residual= 0.012635060415184229\n",
      "[3.57519302e-04 2.41345533e-03 6.85953820e-05 ... 5.28069825e-05\n",
      " 5.28069825e-05 5.28069825e-05]\n",
      "Residual= 0.004347805192881456\n",
      "[3.57189321e-04 2.40022343e-03 6.86151225e-05 ... 5.28036803e-05\n",
      " 5.28036803e-05 5.28036803e-05]\n",
      "Residual= 0.001608579889017467\n",
      "[3.57252894e-04 2.40508155e-03 6.86098429e-05 ... 5.28084656e-05\n",
      " 5.28084656e-05 5.28084656e-05]\n",
      "Residual= 0.0007149336252930933\n",
      "[3.57252894e-04 2.40508155e-03 6.86098429e-05 ... 5.28084656e-05\n",
      " 5.28084656e-05 5.28084656e-05]\n"
     ]
    }
   ],
   "source": [
    "epsilon = 10e-5\n",
    "residual = 1\n",
    "\n",
    "z = np.ones(Q.shape[1]) / (Q.shape[1])\n",
    "v = np.ones(Q.shape[1]) / (Q.shape[1])\n",
    "alpha = 0.55\n",
    "epsilon = 10e-4\n",
    "res = 1\n",
    "\n",
    "while res > epsilon:\n",
    "    yhat = alpha * np.matmul(Q, z)\n",
    "    beta = 1 - np.linalg.norm(yhat, ord=1)\n",
    "    y = yhat + beta * v\n",
    "    res = np.linalg.norm(y - z, ord=1)\n",
    "    z=y\n",
    "    print(y)\n",
    "    print('Residual=', res)\n",
    "\n",
    "print(y)\n"
   ]
  },
  {
   "cell_type": "code",
   "execution_count": 18,
   "metadata": {},
   "outputs": [],
   "source": [
    "import string\n",
    "file2 = open('C:/Users/Mithushan/Desktop/Pagerank/text.txt','w')\n",
    "for i in y:\n",
    "    my_str=str(i)\n",
    "    file2.write(my_str+'\\n')\n",
    "file2.close()"
   ]
  }
 ],
 "metadata": {
  "interpreter": {
   "hash": "b3ba2566441a7c06988d0923437866b63cedc61552a5af99d1f4fb67d367b25f"
  },
  "kernelspec": {
   "display_name": "Python 3 (ipykernel)",
   "language": "python",
   "name": "python3"
  },
  "language_info": {
   "codemirror_mode": {
    "name": "ipython",
    "version": 3
   },
   "file_extension": ".py",
   "mimetype": "text/x-python",
   "name": "python",
   "nbconvert_exporter": "python",
   "pygments_lexer": "ipython3",
   "version": "3.9.7"
  }
 },
 "nbformat": 4,
 "nbformat_minor": 2
}
