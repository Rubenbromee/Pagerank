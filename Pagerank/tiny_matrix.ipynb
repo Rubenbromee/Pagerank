{
 "cells": [
  {
   "cell_type": "code",
   "execution_count": 24,
   "metadata": {},
   "outputs": [],
   "source": [
    "# tiny dataset\n",
    "import numpy as np\n",
    "from numpy.linalg import eig\n",
    "from numpy.linalg import norm\n",
    "from scipy.sparse import csr_matrix\n",
    "\n",
    "\n",
    "#[ 0    1/3  0  0  0    0]\n",
    "#  1/3  0    0  0  0    0\n",
    "#  0    1/3  0  0  1/3  1/2\n",
    "#  1/3  0    0  0  1/3  0\n",
    "#  1/3  1/3  0  0  0    1/2\n",
    "#  0    0    1  0  1/3  0\n",
    "\n",
    "M=np.array([[ 0, 1, 0, 0, 0, 0],\n",
    "            [ 1, 0, 0, 0, 0, 0],\n",
    "            [ 0, 1, 0, 0, 1, 1],\n",
    "            [ 1, 0, 0, 0, 1, 0],\n",
    "            [ 1, 1, 0, 0, 0, 1],\n",
    "            [ 0, 0, 1, 0, 1, 0]])\n",
    "\n",
    "Q=csr_matrix(M)\n",
    "\n",
    "\n"
   ]
  },
  {
   "cell_type": "code",
   "execution_count": 25,
   "metadata": {},
   "outputs": [
    {
     "name": "stdout",
     "output_type": "stream",
     "text": [
      "<class 'scipy.sparse.csr.csr_matrix'>\n",
      "  (0, 0)\t3.0\n",
      "  (0, 1)\t3.0\n",
      "  (0, 2)\t1.0\n",
      "  (0, 4)\t3.0\n",
      "  (0, 5)\t2.0\n",
      "[3. 3. 1. 3. 2.]\n"
     ]
    }
   ],
   "source": [
    "\n",
    "c_sum=Q.sum(axis=0)\n",
    "csr_sum=csr_matrix(c_sum, dtype=float)\n",
    "print(type(csr_sum))\n",
    "print(csr_sum)\n",
    "print(csr_sum.data)\n"
   ]
  },
  {
   "cell_type": "code",
   "execution_count": 26,
   "metadata": {},
   "outputs": [
    {
     "name": "stdout",
     "output_type": "stream",
     "text": [
      "  (0, 0)\t0.3333333333333333\n",
      "  (0, 1)\t0.3333333333333333\n",
      "  (0, 2)\t1.0\n",
      "  (0, 4)\t0.3333333333333333\n",
      "  (0, 5)\t0.5\n"
     ]
    }
   ],
   "source": [
    "for x in range(len(csr_sum.data)):\n",
    "        csr_sum.data[x]=1/csr_sum.data[x]\n",
    "\n",
    "print(csr_sum)"
   ]
  },
  {
   "cell_type": "code",
   "execution_count": 27,
   "metadata": {},
   "outputs": [
    {
     "name": "stdout",
     "output_type": "stream",
     "text": [
      "[[0.         0.33333333 0.         0.         0.         0.        ]\n",
      " [0.33333333 0.         0.         0.         0.         0.        ]\n",
      " [0.         0.33333333 0.         0.         0.33333333 0.5       ]\n",
      " [0.33333333 0.         0.         0.         0.33333333 0.        ]\n",
      " [0.33333333 0.33333333 0.         0.         0.         0.5       ]\n",
      " [0.         0.         1.         0.         0.33333333 0.        ]]\n",
      "  (0, 1)\t0.3333333333333333\n",
      "  (1, 0)\t0.3333333333333333\n",
      "  (2, 5)\t0.5\n",
      "  (2, 4)\t0.3333333333333333\n",
      "  (2, 1)\t0.3333333333333333\n",
      "  (3, 4)\t0.3333333333333333\n",
      "  (3, 0)\t0.3333333333333333\n",
      "  (4, 5)\t0.5\n",
      "  (4, 1)\t0.3333333333333333\n",
      "  (4, 0)\t0.3333333333333333\n",
      "  (5, 4)\t0.3333333333333333\n",
      "  (5, 2)\t1.0\n"
     ]
    }
   ],
   "source": [
    "\n",
    "Q=Q.multiply(csr_sum)\n",
    "print(Q.toarray())\n",
    "print(Q)"
   ]
  },
  {
   "cell_type": "code",
   "execution_count": 36,
   "metadata": {},
   "outputs": [
    {
     "ename": "TypeError",
     "evalue": "Cannot interpret '6' as a data type",
     "output_type": "error",
     "traceback": [
      "\u001b[1;31m---------------------------------------------------------------------------\u001b[0m",
      "\u001b[1;31mTypeError\u001b[0m                                 Traceback (most recent call last)",
      "\u001b[1;32mC:\\Users\\MITHUS~1\\AppData\\Local\\Temp/ipykernel_14040/325154496.py\u001b[0m in \u001b[0;36m<module>\u001b[1;34m\u001b[0m\n\u001b[0;32m      1\u001b[0m \u001b[0mepsilon\u001b[0m \u001b[1;33m=\u001b[0m \u001b[1;36m10e-5\u001b[0m\u001b[1;33m\u001b[0m\u001b[1;33m\u001b[0m\u001b[0m\n\u001b[0;32m      2\u001b[0m \u001b[0mresidual\u001b[0m \u001b[1;33m=\u001b[0m \u001b[1;36m1\u001b[0m\u001b[1;33m\u001b[0m\u001b[1;33m\u001b[0m\u001b[0m\n\u001b[1;32m----> 3\u001b[1;33m \u001b[0mz\u001b[0m \u001b[1;33m=\u001b[0m \u001b[0mnp\u001b[0m\u001b[1;33m.\u001b[0m\u001b[0mones\u001b[0m\u001b[1;33m(\u001b[0m\u001b[0mQ\u001b[0m\u001b[1;33m.\u001b[0m\u001b[0mshape\u001b[0m\u001b[1;33m[\u001b[0m\u001b[1;36m1\u001b[0m\u001b[1;33m]\u001b[0m\u001b[1;33m,\u001b[0m\u001b[1;33m(\u001b[0m\u001b[1;36m6\u001b[0m\u001b[1;33m,\u001b[0m\u001b[1;36m1\u001b[0m\u001b[1;33m)\u001b[0m\u001b[1;33m)\u001b[0m \u001b[1;33m/\u001b[0m \u001b[1;33m(\u001b[0m\u001b[0mQ\u001b[0m\u001b[1;33m.\u001b[0m\u001b[0mshape\u001b[0m\u001b[1;33m[\u001b[0m\u001b[1;36m1\u001b[0m\u001b[1;33m]\u001b[0m\u001b[1;33m)\u001b[0m\u001b[1;33m\u001b[0m\u001b[1;33m\u001b[0m\u001b[0m\n\u001b[0m\u001b[0;32m      4\u001b[0m \u001b[0mv\u001b[0m \u001b[1;33m=\u001b[0m \u001b[0mnp\u001b[0m\u001b[1;33m.\u001b[0m\u001b[0mones\u001b[0m\u001b[1;33m(\u001b[0m\u001b[0mQ\u001b[0m\u001b[1;33m.\u001b[0m\u001b[0mshape\u001b[0m\u001b[1;33m[\u001b[0m\u001b[1;36m1\u001b[0m\u001b[1;33m]\u001b[0m\u001b[1;33m)\u001b[0m \u001b[1;33m/\u001b[0m \u001b[1;33m(\u001b[0m\u001b[0mQ\u001b[0m\u001b[1;33m.\u001b[0m\u001b[0mshape\u001b[0m\u001b[1;33m[\u001b[0m\u001b[1;36m1\u001b[0m\u001b[1;33m]\u001b[0m\u001b[1;33m)\u001b[0m\u001b[1;33m\u001b[0m\u001b[1;33m\u001b[0m\u001b[0m\n\u001b[0;32m      5\u001b[0m \u001b[0mprint\u001b[0m\u001b[1;33m(\u001b[0m\u001b[0mz\u001b[0m\u001b[1;33m.\u001b[0m\u001b[0mshape\u001b[0m\u001b[1;33m)\u001b[0m\u001b[1;33m\u001b[0m\u001b[1;33m\u001b[0m\u001b[0m\n",
      "\u001b[1;32m~\\.conda\\envs\\tensorflow\\lib\\site-packages\\numpy\\core\\numeric.py\u001b[0m in \u001b[0;36mones\u001b[1;34m(shape, dtype, order, like)\u001b[0m\n\u001b[0;32m    202\u001b[0m         \u001b[1;32mreturn\u001b[0m \u001b[0m_ones_with_like\u001b[0m\u001b[1;33m(\u001b[0m\u001b[0mshape\u001b[0m\u001b[1;33m,\u001b[0m \u001b[0mdtype\u001b[0m\u001b[1;33m=\u001b[0m\u001b[0mdtype\u001b[0m\u001b[1;33m,\u001b[0m \u001b[0morder\u001b[0m\u001b[1;33m=\u001b[0m\u001b[0morder\u001b[0m\u001b[1;33m,\u001b[0m \u001b[0mlike\u001b[0m\u001b[1;33m=\u001b[0m\u001b[0mlike\u001b[0m\u001b[1;33m)\u001b[0m\u001b[1;33m\u001b[0m\u001b[1;33m\u001b[0m\u001b[0m\n\u001b[0;32m    203\u001b[0m \u001b[1;33m\u001b[0m\u001b[0m\n\u001b[1;32m--> 204\u001b[1;33m     \u001b[0ma\u001b[0m \u001b[1;33m=\u001b[0m \u001b[0mempty\u001b[0m\u001b[1;33m(\u001b[0m\u001b[0mshape\u001b[0m\u001b[1;33m,\u001b[0m \u001b[0mdtype\u001b[0m\u001b[1;33m,\u001b[0m \u001b[0morder\u001b[0m\u001b[1;33m)\u001b[0m\u001b[1;33m\u001b[0m\u001b[1;33m\u001b[0m\u001b[0m\n\u001b[0m\u001b[0;32m    205\u001b[0m     \u001b[0mmultiarray\u001b[0m\u001b[1;33m.\u001b[0m\u001b[0mcopyto\u001b[0m\u001b[1;33m(\u001b[0m\u001b[0ma\u001b[0m\u001b[1;33m,\u001b[0m \u001b[1;36m1\u001b[0m\u001b[1;33m,\u001b[0m \u001b[0mcasting\u001b[0m\u001b[1;33m=\u001b[0m\u001b[1;34m'unsafe'\u001b[0m\u001b[1;33m)\u001b[0m\u001b[1;33m\u001b[0m\u001b[1;33m\u001b[0m\u001b[0m\n\u001b[0;32m    206\u001b[0m     \u001b[1;32mreturn\u001b[0m \u001b[0ma\u001b[0m\u001b[1;33m\u001b[0m\u001b[1;33m\u001b[0m\u001b[0m\n",
      "\u001b[1;31mTypeError\u001b[0m: Cannot interpret '6' as a data type"
     ]
    }
   ],
   "source": [
    "epsilon = 10e-5\n",
    "residual = 1\n",
    "z = np.ones((6,1),Q.shape[1]) / (Q.shape[1])\n",
    "v = np.ones(Q.shape[1]) / (Q.shape[1])\n",
    "print(z.shape)\n",
    "print(z.T.shape)\n",
    "\n",
    "\n",
    "alpha = 0.85\n",
    "epsilon = 10e-3\n",
    "res = 1\n"
   ]
  },
  {
   "cell_type": "code",
   "execution_count": 34,
   "metadata": {},
   "outputs": [
    {
     "ename": "ValueError",
     "evalue": "shapes (6,6) and (1,6) not aligned: 6 (dim 1) != 1 (dim 0)",
     "output_type": "error",
     "traceback": [
      "\u001b[1;31m---------------------------------------------------------------------------\u001b[0m",
      "\u001b[1;31mValueError\u001b[0m                                Traceback (most recent call last)",
      "\u001b[1;32mC:\\Users\\MITHUS~1\\AppData\\Local\\Temp/ipykernel_14040/2414959696.py\u001b[0m in \u001b[0;36m<module>\u001b[1;34m\u001b[0m\n\u001b[1;32m----> 1\u001b[1;33m \u001b[0mprint\u001b[0m\u001b[1;33m(\u001b[0m\u001b[0mQ\u001b[0m\u001b[1;33m.\u001b[0m\u001b[0mtodense\u001b[0m\u001b[1;33m(\u001b[0m\u001b[1;33m)\u001b[0m\u001b[1;33m*\u001b[0m\u001b[0mz\u001b[0m\u001b[1;33m.\u001b[0m\u001b[0mT\u001b[0m\u001b[1;33m)\u001b[0m\u001b[1;33m\u001b[0m\u001b[1;33m\u001b[0m\u001b[0m\n\u001b[0m",
      "\u001b[1;32m~\\.conda\\envs\\tensorflow\\lib\\site-packages\\numpy\\matrixlib\\defmatrix.py\u001b[0m in \u001b[0;36m__mul__\u001b[1;34m(self, other)\u001b[0m\n\u001b[0;32m    216\u001b[0m         \u001b[1;32mif\u001b[0m \u001b[0misinstance\u001b[0m\u001b[1;33m(\u001b[0m\u001b[0mother\u001b[0m\u001b[1;33m,\u001b[0m \u001b[1;33m(\u001b[0m\u001b[0mN\u001b[0m\u001b[1;33m.\u001b[0m\u001b[0mndarray\u001b[0m\u001b[1;33m,\u001b[0m \u001b[0mlist\u001b[0m\u001b[1;33m,\u001b[0m \u001b[0mtuple\u001b[0m\u001b[1;33m)\u001b[0m\u001b[1;33m)\u001b[0m \u001b[1;33m:\u001b[0m\u001b[1;33m\u001b[0m\u001b[1;33m\u001b[0m\u001b[0m\n\u001b[0;32m    217\u001b[0m             \u001b[1;31m# This promotes 1-D vectors to row vectors\u001b[0m\u001b[1;33m\u001b[0m\u001b[1;33m\u001b[0m\u001b[0m\n\u001b[1;32m--> 218\u001b[1;33m             \u001b[1;32mreturn\u001b[0m \u001b[0mN\u001b[0m\u001b[1;33m.\u001b[0m\u001b[0mdot\u001b[0m\u001b[1;33m(\u001b[0m\u001b[0mself\u001b[0m\u001b[1;33m,\u001b[0m \u001b[0masmatrix\u001b[0m\u001b[1;33m(\u001b[0m\u001b[0mother\u001b[0m\u001b[1;33m)\u001b[0m\u001b[1;33m)\u001b[0m\u001b[1;33m\u001b[0m\u001b[1;33m\u001b[0m\u001b[0m\n\u001b[0m\u001b[0;32m    219\u001b[0m         \u001b[1;32mif\u001b[0m \u001b[0misscalar\u001b[0m\u001b[1;33m(\u001b[0m\u001b[0mother\u001b[0m\u001b[1;33m)\u001b[0m \u001b[1;32mor\u001b[0m \u001b[1;32mnot\u001b[0m \u001b[0mhasattr\u001b[0m\u001b[1;33m(\u001b[0m\u001b[0mother\u001b[0m\u001b[1;33m,\u001b[0m \u001b[1;34m'__rmul__'\u001b[0m\u001b[1;33m)\u001b[0m \u001b[1;33m:\u001b[0m\u001b[1;33m\u001b[0m\u001b[1;33m\u001b[0m\u001b[0m\n\u001b[0;32m    220\u001b[0m             \u001b[1;32mreturn\u001b[0m \u001b[0mN\u001b[0m\u001b[1;33m.\u001b[0m\u001b[0mdot\u001b[0m\u001b[1;33m(\u001b[0m\u001b[0mself\u001b[0m\u001b[1;33m,\u001b[0m \u001b[0mother\u001b[0m\u001b[1;33m)\u001b[0m\u001b[1;33m\u001b[0m\u001b[1;33m\u001b[0m\u001b[0m\n",
      "\u001b[1;32m<__array_function__ internals>\u001b[0m in \u001b[0;36mdot\u001b[1;34m(*args, **kwargs)\u001b[0m\n",
      "\u001b[1;31mValueError\u001b[0m: shapes (6,6) and (1,6) not aligned: 6 (dim 1) != 1 (dim 0)"
     ]
    }
   ],
   "source": [
    "print(Q.todense()*z.T)"
   ]
  },
  {
   "cell_type": "code",
   "execution_count": null,
   "metadata": {},
   "outputs": [],
   "source": [
    "\n",
    "while res > epsilon:\n",
    "    yhat=csr_matrix.dot(Q, z)\n",
    "    #yhat =  Q.multiply(z)\n",
    "    print(yhat)\n",
    "    beta = 1 - np.linalg.norm(yhat, ord=1)\n",
    "    y = yhat + beta * v\n",
    "    res = np.linalg.norm(y - z, ord=1)\n",
    "    z=y\n",
    "    print(y)\n",
    "    print('Residual=', res)\n",
    "\n",
    "print(y)\n"
   ]
  },
  {
   "cell_type": "code",
   "execution_count": 30,
   "metadata": {},
   "outputs": [
    {
     "name": "stdout",
     "output_type": "stream",
     "text": [
      "[[0.         0.33333333 0.         0.         0.         0.        ]\n",
      " [0.33333333 0.         0.         0.         0.         0.        ]\n",
      " [0.         0.33333333 0.         0.         0.33333333 0.5       ]\n",
      " [0.33333333 0.         0.         0.         0.33333333 0.        ]\n",
      " [0.33333333 0.33333333 0.         0.         0.         0.5       ]\n",
      " [0.         0.         1.         0.         0.33333333 0.        ]]\n"
     ]
    }
   ],
   "source": [
    "print(Q.toarray())"
   ]
  },
  {
   "cell_type": "code",
   "execution_count": 31,
   "metadata": {},
   "outputs": [
    {
     "name": "stdout",
     "output_type": "stream",
     "text": [
      "[1. 1. 1. 1. 1. 1.] [1. 1. 1. 1. 1. 1.]\n",
      "[0.13978495 0.17204301 0.25806452 0.         0.20430108 0.22580645] [0.06666667 0.06666667 0.23333333 0.13333333 0.23333333 0.26666667]\n",
      "[0.11702718 0.15862451 0.30282862 0.         0.21020521 0.21131448] [0.05734767 0.04659498 0.23835125 0.11469534 0.21684588 0.32616487]\n",
      "[0.10495439 0.14545965 0.33970526 0.         0.21577544 0.19410526] [0.05287484 0.03900906 0.22860048 0.10907746 0.19754114 0.37289702]\n",
      "[0.09662594 0.13380443 0.3700856  0.         0.22057386 0.17891018] [0.04848655 0.0349848  0.21746433 0.10690994 0.18052398 0.41163041]\n",
      "[0.09023758 0.12412505 0.39476702 0.         0.22452811 0.16634223] [0.04460148 0.03220865 0.20758119 0.10573327 0.16626521 0.44361022]\n"
     ]
    }
   ],
   "source": [
    "Au=csr_matrix.dot(csr_matrix.transpose(Q),Q)\n",
    "Hu=csr_matrix.dot(Q,csr_matrix.transpose(Q))\n",
    "a=np.ones(Q.shape[0])\n",
    "h=np.ones(Q.shape[0])\n",
    "print(a,h)\n",
    "for j in range(5):\n",
    "    a=csr_matrix.dot(a,Au)\n",
    "    a=a/sum(a)\n",
    "    h=csr_matrix.dot(h,Hu)\n",
    "    h=h/sum(h)\n",
    "    print(a,h)"
   ]
  }
 ],
 "metadata": {
  "interpreter": {
   "hash": "c1210bd6c6ebc594ffd6d1c8da4537e525e2a7a15212f90464a0a74e93edea40"
  },
  "kernelspec": {
   "display_name": "Python 3.9.7 64-bit ('tensorflow': conda)",
   "language": "python",
   "name": "python3"
  },
  "language_info": {
   "codemirror_mode": {
    "name": "ipython",
    "version": 3
   },
   "file_extension": ".py",
   "mimetype": "text/x-python",
   "name": "python",
   "nbconvert_exporter": "python",
   "pygments_lexer": "ipython3",
   "version": "3.9.7"
  },
  "orig_nbformat": 4
 },
 "nbformat": 4,
 "nbformat_minor": 2
}
