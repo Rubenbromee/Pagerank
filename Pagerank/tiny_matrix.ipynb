{
 "cells": [
  {
   "cell_type": "code",
   "execution_count": 143,
   "metadata": {},
   "outputs": [],
   "source": [
    "# tiny dataset\n",
    "import numpy as np\n",
    "from numpy.linalg import eig\n",
    "from numpy.linalg import norm\n",
    "from scipy.sparse import csr_matrix\n",
    "\n",
    "\n",
    "#[ 0    1/3  0  0  0    0]\n",
    "#  1/3  0    0  0  0    0\n",
    "#  0    1/3  0  0  1/3  1/2\n",
    "#  1/3  0    0  0  1/3  0\n",
    "#  1/3  1/3  0  0  0    1/2\n",
    "#  0    0    1  0  1/3  0\n",
    "\n",
    "M=np.array([[ 0, 1, 0, 0, 0, 0],\n",
    "            [ 1, 0, 0, 0, 0, 0],\n",
    "            [ 0, 1, 0, 0, 1, 1],\n",
    "            [ 1, 0, 0, 0, 1, 0],\n",
    "            [ 1, 1, 0, 0, 0, 1],\n",
    "            [ 0, 0, 1, 0, 1, 0]])\n",
    "\n",
    "Q=csr_matrix(M)\n",
    "\n",
    "\n"
   ]
  },
  {
   "cell_type": "code",
   "execution_count": 144,
   "metadata": {},
   "outputs": [
    {
     "name": "stdout",
     "output_type": "stream",
     "text": [
      "<class 'scipy.sparse.csr.csr_matrix'>\n",
      "  (0, 0)\t3.0\n",
      "  (0, 1)\t3.0\n",
      "  (0, 2)\t1.0\n",
      "  (0, 4)\t3.0\n",
      "  (0, 5)\t2.0\n",
      "[3. 3. 1. 3. 2.]\n"
     ]
    }
   ],
   "source": [
    "\n",
    "c_sum=Q.sum(axis=0)\n",
    "csr_sum=csr_matrix(c_sum, dtype=float)\n",
    "print(type(csr_sum))\n",
    "print(csr_sum)\n",
    "print(csr_sum.data)\n"
   ]
  },
  {
   "cell_type": "code",
   "execution_count": 145,
   "metadata": {},
   "outputs": [
    {
     "name": "stdout",
     "output_type": "stream",
     "text": [
      "  (0, 0)\t0.3333333333333333\n",
      "  (0, 1)\t0.3333333333333333\n",
      "  (0, 2)\t1.0\n",
      "  (0, 4)\t0.3333333333333333\n",
      "  (0, 5)\t0.5\n"
     ]
    }
   ],
   "source": [
    "for x in range(len(csr_sum.data)):\n",
    "        csr_sum.data[x]=1/csr_sum.data[x]\n",
    "\n",
    "print(csr_sum)"
   ]
  },
  {
   "cell_type": "code",
   "execution_count": 146,
   "metadata": {},
   "outputs": [
    {
     "name": "stdout",
     "output_type": "stream",
     "text": [
      "[[0.         0.33333333 0.         0.         0.         0.        ]\n",
      " [0.33333333 0.         0.         0.         0.         0.        ]\n",
      " [0.         0.33333333 0.         0.         0.33333333 0.5       ]\n",
      " [0.33333333 0.         0.         0.         0.33333333 0.        ]\n",
      " [0.33333333 0.33333333 0.         0.         0.         0.5       ]\n",
      " [0.         0.         1.         0.         0.33333333 0.        ]]\n",
      "  (0, 1)\t0.3333333333333333\n",
      "  (1, 0)\t0.3333333333333333\n",
      "  (2, 5)\t0.5\n",
      "  (2, 4)\t0.3333333333333333\n",
      "  (2, 1)\t0.3333333333333333\n",
      "  (3, 4)\t0.3333333333333333\n",
      "  (3, 0)\t0.3333333333333333\n",
      "  (4, 5)\t0.5\n",
      "  (4, 1)\t0.3333333333333333\n",
      "  (4, 0)\t0.3333333333333333\n",
      "  (5, 4)\t0.3333333333333333\n",
      "  (5, 2)\t1.0\n"
     ]
    }
   ],
   "source": [
    "\n",
    "Q=Q.multiply(csr_sum)\n",
    "print(Q.toarray())\n",
    "print(Q)"
   ]
  },
  {
   "cell_type": "code",
   "execution_count": 207,
   "metadata": {},
   "outputs": [
    {
     "name": "stdout",
     "output_type": "stream",
     "text": [
      "(6,)\n",
      "(6,)\n"
     ]
    }
   ],
   "source": [
    "epsilon = 10e-5\n",
    "residual = 1\n",
    "z = np.ones(Q.shape[1]) / (Q.shape[1])\n",
    "v = np.ones(Q.shape[1]) / (Q.shape[1])\n",
    "print(z.shape)\n",
    "print(z.T.shape)\n",
    "\n",
    "\n",
    "alpha = 0.85\n",
    "epsilon = 10e-2\n",
    "res = 1\n"
   ]
  },
  {
   "cell_type": "code",
   "execution_count": 208,
   "metadata": {},
   "outputs": [
    {
     "name": "stdout",
     "output_type": "stream",
     "text": [
      "[0.08333333 0.08333333 0.22222222 0.13888889 0.22222222 0.25      ]\n",
      "Residual= 0.3888888888888889\n",
      "[0.05092593 0.05092593 0.25       0.125      0.2037037  0.31944444]\n",
      "Residual= 0.19444444444444442\n",
      "[0.03780864 0.03780864 0.2654321  0.10570988 0.21450617 0.33873457]\n",
      "Residual= 0.09104938271604941\n",
      "[0.03780864 0.03780864 0.2654321  0.10570988 0.21450617 0.33873457]\n"
     ]
    }
   ],
   "source": [
    "\n",
    "while res > epsilon:\n",
    "    yhat=csr_matrix.dot(Q, z)\n",
    "    #yhat =  Q.multiply(z)\n",
    "    #print(yhat)\n",
    "    beta = 1 - np.linalg.norm(yhat, ord=1)\n",
    "    y = yhat + beta * v\n",
    "    res = np.linalg.norm(y - z, ord=1)\n",
    "    z=y\n",
    "    print(y)\n",
    "    print('Residual=', res)\n",
    "\n",
    "print(y)\n"
   ]
  },
  {
   "cell_type": "code",
   "execution_count": 210,
   "metadata": {},
   "outputs": [
    {
     "name": "stdout",
     "output_type": "stream",
     "text": [
      "[[0.         0.33333333 0.         0.         0.         0.        ]\n",
      " [0.33333333 0.         0.         0.         0.         0.        ]\n",
      " [0.         0.33333333 0.         0.         0.33333333 0.5       ]\n",
      " [0.33333333 0.         0.         0.         0.33333333 0.        ]\n",
      " [0.33333333 0.33333333 0.         0.         0.         0.5       ]\n",
      " [0.         0.         1.         0.         0.33333333 0.        ]]\n"
     ]
    }
   ],
   "source": [
    "print(Q.toarray())"
   ]
  },
  {
   "cell_type": "code",
   "execution_count": 211,
   "metadata": {},
   "outputs": [
    {
     "name": "stdout",
     "output_type": "stream",
     "text": [
      "[1. 1. 1. 1. 1. 1.] [1. 1. 1. 1. 1. 1.]\n",
      "[0.13978495 0.17204301 0.25806452 0.         0.20430108 0.22580645] [0.06666667 0.06666667 0.23333333 0.13333333 0.23333333 0.26666667]\n",
      "[0.11702718 0.15862451 0.30282862 0.         0.21020521 0.21131448] [0.05734767 0.04659498 0.23835125 0.11469534 0.21684588 0.32616487]\n",
      "[0.10495439 0.14545965 0.33970526 0.         0.21577544 0.19410526] [0.05287484 0.03900906 0.22860048 0.10907746 0.19754114 0.37289702]\n",
      "[0.09662594 0.13380443 0.3700856  0.         0.22057386 0.17891018] [0.04848655 0.0349848  0.21746433 0.10690994 0.18052398 0.41163041]\n",
      "[0.09023758 0.12412505 0.39476702 0.         0.22452811 0.16634223] [0.04460148 0.03220865 0.20758119 0.10573327 0.16626521 0.44361022]\n"
     ]
    }
   ],
   "source": [
    "Au=csr_matrix.dot(csr_matrix.transpose(Q),Q)\n",
    "Hu=csr_matrix.dot(Q,csr_matrix.transpose(Q))\n",
    "a=np.ones(Q.shape[0])\n",
    "h=np.ones(Q.shape[0])\n",
    "print(a,h)\n",
    "for j in range(5):\n",
    "    a=csr_matrix.dot(a,Au)\n",
    "    a=a/sum(a)\n",
    "    h=csr_matrix.dot(h,Hu)\n",
    "    h=h/sum(h)\n",
    "    print(a,h)"
   ]
  }
 ],
 "metadata": {
  "interpreter": {
   "hash": "c1210bd6c6ebc594ffd6d1c8da4537e525e2a7a15212f90464a0a74e93edea40"
  },
  "kernelspec": {
   "display_name": "Python 3.9.7 64-bit ('tensorflow': conda)",
   "language": "python",
   "name": "python3"
  },
  "language_info": {
   "codemirror_mode": {
    "name": "ipython",
    "version": 3
   },
   "file_extension": ".py",
   "mimetype": "text/x-python",
   "name": "python",
   "nbconvert_exporter": "python",
   "pygments_lexer": "ipython3",
   "version": "3.9.7"
  },
  "orig_nbformat": 4
 },
 "nbformat": 4,
 "nbformat_minor": 2
}
