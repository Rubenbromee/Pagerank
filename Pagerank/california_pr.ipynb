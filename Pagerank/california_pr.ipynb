{
 "cells": [
  {
   "cell_type": "code",
   "execution_count": 11,
   "metadata": {},
   "outputs": [],
   "source": [
    "# California dataset\n",
    "import numpy as np\n",
    "from numpy.linalg import eig\n",
    "from numpy.linalg import norm\n",
    "from scipy.sparse import csc_matrix\n",
    "from scipy.sparse import csr_matrix\n",
    "from scipy.sparse import coo_matrix\n",
    "\n",
    "data = open('pageRank-gr0.California.txt', 'r')\n",
    "\n",
    "edge_list = np.empty((16150, 2),dtype=int)\n",
    "\n",
    "row = np.empty(16150,dtype=int)\n",
    "col = np.empty(16150,dtype=int)\n",
    "m_data = np.empty(16150,dtype=int)"
   ]
  },
  {
   "cell_type": "code",
   "execution_count": 12,
   "metadata": {},
   "outputs": [
    {
     "name": "stdout",
     "output_type": "stream",
     "text": [
      "eof\n"
     ]
    }
   ],
   "source": [
    "# Reading data and creating edge list\n",
    "a = True\n",
    "i = 0\n",
    "while a:\n",
    "    data_line = data.readline()\n",
    "    if not data_line:\n",
    "        print(\"eof\")\n",
    "        a = False\n",
    "        break\n",
    "    if data_line[0] == 'e':\n",
    "        t = data_line.split()\n",
    "        edge_list[i][0] = t[1]\n",
    "        edge_list[i][1] = t[2]\n",
    "        i = i + 1"
   ]
  },
  {
   "cell_type": "code",
   "execution_count": 13,
   "metadata": {},
   "outputs": [],
   "source": [
    "# Creating sparse link matrix, binary\n",
    "for i in range(len(edge_list)):\n",
    "    col[i] = edge_list[i][0]\n",
    "    row[i] = edge_list[i][1]\n",
    "    m_data[i] = 1"
   ]
  },
  {
   "cell_type": "code",
   "execution_count": 14,
   "metadata": {},
   "outputs": [],
   "source": [
    "Q = csr_matrix((m_data, (row, col)), shape=(9664, 9664))"
   ]
  },
  {
   "cell_type": "code",
   "execution_count": 15,
   "metadata": {},
   "outputs": [],
   "source": [
    "c_sum=Q.sum(axis=0)\n",
    "csr_sum=csr_matrix(c_sum, dtype=float)\n",
    "for x in range(len(csr_sum.data)):\n",
    "        csr_sum.data[x]=1/csr_sum.data[x]"
   ]
  },
  {
   "cell_type": "code",
   "execution_count": 16,
   "metadata": {},
   "outputs": [],
   "source": [
    "Q = Q.multiply(csr_sum) # Making matrix column stochastic"
   ]
  },
  {
   "cell_type": "code",
   "execution_count": 17,
   "metadata": {},
   "outputs": [],
   "source": [
    "epsilon = 10e-5\n",
    "residual = 1\n",
    "z = np.ones(Q.shape[1]) / (Q.shape[1])\n",
    "v = np.ones(Q.shape[1]) / (Q.shape[1])\n",
    "alpha = 0.85\n",
    "res = 1\n",
    "residuals = []"
   ]
  },
  {
   "cell_type": "code",
   "execution_count": 18,
   "metadata": {},
   "outputs": [],
   "source": [
    "while res > epsilon:\n",
    "    yhat = alpha * Q * z\n",
    "    beta = 1 - np.linalg.norm(yhat, ord=1)\n",
    "    y = yhat + beta * v\n",
    "    res = np.linalg.norm(y - z, ord=1)\n",
    "    z = y"
   ]
  },
  {
   "cell_type": "code",
   "execution_count": 26,
   "metadata": {},
   "outputs": [
    {
     "data": {
      "text/plain": [
       "<Figure size 432x288 with 0 Axes>"
      ]
     },
     "metadata": {},
     "output_type": "display_data"
    },
    {
     "data": {
      "image/png": "[encoded data removed]",
      "text/plain": [
       "<Figure size 432x288 with 1 Axes>"
      ]
     },
     "metadata": {
      "needs_background": "light"
     },
     "output_type": "display_data"
    },
    {
     "name": "stdout",
     "output_type": "stream",
     "text": [
      "0.00620092201592269\n",
      "0.00620092201592269\n",
      "(array([1488], dtype=int64),)\n",
      "(array([4391], dtype=int64),)\n",
      "(array([66], dtype=int64),)\n"
     ]
    }
   ],
   "source": [
    "import matplotlib.pyplot as plt\n",
    "plt.clf()\n",
    "fig = plt.figure()\n",
    "ax = fig.add_axes([0, 0, 1, 1])\n",
    "y = z\n",
    "ax.set_ylabel('Page Rank score')\n",
    "ax.set_xlabel('Page index')\n",
    "ax.stem(y)\n",
    "plt.show()\n",
    "\n",
    "y_sort = -np.sort(-y)\n",
    "print(y_sort[0])\n",
    "print(max(y))\n",
    "print(np.where(y == y_sort[0]))\n",
    "print(np.where(y == y_sort[1]))\n",
    "print(np.where(y == y_sort[2]))\n",
    "\n",
    "# Compared with googling \"California\"\n",
    "# 1. http://www.ucdavis.edu/ 2nd page of search results\n",
    "# 2. http://search.ucdavis.edu/ The search page of the highest ranked web-page.\n",
    "# 3. http://www.california.edu/ Not in the first 5 pages of search results, deprecated\n",
    "\n",
    "# fig2 = plt.figure()\n",
    "# ax2 = fig2.add_axes([0, 0, 1, 1])\n",
    "# x2 = np.arange(36)\n",
    "# y2 = residuals\n",
    "# ax2.set_ylabel('Residual')\n",
    "# ax2.set_xlabel('Iteration')\n",
    "# ax2.plot(x2,y2)\n",
    "# plt.show()"
   ]
  }
 ],
 "metadata": {
  "interpreter": {
   "hash": "22349e119f9a1ff9ff9c2fb7ff678fa263f34966604f265a6bd2d05ff475b46c"
  },
  "kernelspec": {
   "display_name": "Python 3.9.7 64-bit",
   "language": "python",
   "name": "python3"
  },
  "language_info": {
   "codemirror_mode": {
    "name": "ipython",
    "version": 3
   },
   "file_extension": ".py",
   "mimetype": "text/x-python",
   "name": "python",
   "nbconvert_exporter": "python",
   "pygments_lexer": "ipython3",
   "version": "3.9.7"
  },
  "orig_nbformat": 4
 },
 "nbformat": 4,
 "nbformat_minor": 2
}
